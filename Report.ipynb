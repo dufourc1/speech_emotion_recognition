{
 "cells": [
  {
   "cell_type": "markdown",
   "metadata": {},
   "source": [
    "# Introduction\n"
   ]
  },
  {
   "cell_type": "markdown",
   "metadata": {},
   "source": [
    "Do not spend too much time trying to get very tiny metrics improvement. Once you have a model with a correct predictive power, you should better spend time explaining your data cleaning & preparation pipeline as well as explanations & visualizations of the results.\n",
    "\n",
    "The goal is to see your fit with our company culture & engineering needs, spending 50h on an over-complicated approach will not give you bonus points compared to a simple, yet effective, to-the-point solution."
   ]
  },
  {
   "cell_type": "markdown",
   "metadata": {},
   "source": [
    "## About the data"
   ]
  },
  {
   "cell_type": "markdown",
   "metadata": {},
   "source": [
    "The dataset you will be working with is called Emo-DB and can be found [here](http://emodb.bilderbar.info/index-1280.html).\n",
    "\n",
    "It is a database containing samples of emotional speech in German. It contains samples labeled with one of 7 different emotions: Anger, Boredom, Disgust, Fear, Happiness, Sadness and Neutral. \n",
    "\n",
    "Please download the full database and refer to the documentation to understand how the samples are labeled (see \"Additional information\")\n",
    "   \n",
    "The goal of this project is to develop a model which is able to **classify samples of emotional speech**. Feel free to use any available library you would need, but beware of re-using someone else's code without mentionning it!"
   ]
  },
  {
   "cell_type": "markdown",
   "metadata": {},
   "source": [
    "## Deliverable"
   ]
  },
  {
   "cell_type": "markdown",
   "metadata": {},
   "source": [
    "The end-goal is to deliver us:\n",
    "* This report filled with your approach, in the form of an **iPython Notebook**.\n",
    "* A **5-10 slides PDF file**, containing a very brief presentation covering the following points:\n",
    "    * Introduction to the problem (what are we trying to achieve and why) - max 1 slide\n",
    "    * Libraries used - max 1 slide\n",
    "    * Data Processing Pipeline - max 2 slides\n",
    "    * Feature Engineering (if relevant) - max 1 slide\n",
    "    * Modeling - max 1 slide\n",
    "    * Results & Visualization - max 2 slides\n",
    "* The goal of the presentation is to make it **understandable by a business person**, apart from how modeling techniques which do not have to be explained how they work."
   ]
  },
  {
   "cell_type": "markdown",
   "metadata": {},
   "source": [
    " "
   ]
  },
  {
   "cell_type": "markdown",
   "metadata": {},
   "source": [
    "## Articles from which I got the ideas to analyze the dataset:"
   ]
  },
  {
   "cell_type": "markdown",
   "metadata": {},
   "source": [
    "1. Parlak, Cevahir & Diri, Banu. (2013). **Emotion recognition from the human voice**. _2013 21st Signal Processing and Communications Applications Conference, SIU 2013. 1-4. 10.1109/SIU.2013.6531196_\n",
    "2. Kerkeni, Leila & Serrestou, Youssef & Mbarki, Mohamed & Raoof, Kosai & Mahjoub, Mohamed. (2018). **Speech Emotion Recognition: Methods and Cases Study**. _175-182. 10.5220/0006611601750182_\n",
    "3. Chandrasekar, Purnima & Chapaneri, Santosh & Jayaswal, Deepak. (2014). **Emotion Recognition from Speech using Discriminative Features**. _International Journal of Computer Applications. 101. 31-36. 10.5120/17775-8913_ "
   ]
  },
  {
   "cell_type": "markdown",
   "metadata": {},
   "source": [
    "# Tutorials, analysis I have read and which gave my ideas:\n",
    "* https://www.kdnuggets.com/2017/12/audio-classifier-deep-neural-networks.html\n",
    "\n",
    "            Instead of directly using the sound file as an amplitude vs time signal we use a log-scaled mel-spectrogram with 128 components (bands) covering the audible frequency range (0-22050 Hz), \n",
    "            using a window size of 23 ms (1024 samples at 44.1 kHz) and a hop size of the same duration. This conversion takes into account the fact that human ear hears sound on log-scale, \n",
    "            and closely scaled frequency are not well distinguished by the human Cochlea. The effect becomes stronger as frequency increases. Hence we only take into account power in different frequency bands. \n",
    "* "
   ]
  },
  {
   "cell_type": "markdown",
   "metadata": {},
   "source": [
    "# Libraries Loading"
   ]
  },
  {
   "cell_type": "code",
   "execution_count": 12,
   "metadata": {
    "collapsed": true
   },
   "outputs": [],
   "source": [
    "#general \n",
    "import numpy as np\n",
    "import pandas as pd\n",
    "\n",
    "#utilities for data analysis\n",
    "import pandas_profiling\n",
    "\n",
    "#plot utilities\n",
    "import matplotlib.pyplot as plt\n",
    "import seaborn as sns\n",
    "\n",
    "#audio processing\n",
    "import librosa\n",
    "import librosa.display\n",
    "\n",
    "import python_speech_features\n",
    "\n",
    "#for machine learning models\n",
    "import math\n",
    "\n",
    "import torch\n",
    "from torch.autograd import Variable\n",
    "from torch import nn\n",
    "from torch.nn import functional as F\n",
    "\n",
    "import sklearn\n",
    "from sklearn.ensemble import RandomForestClassifier\n",
    "from sklearn.datasets import make_classification\n",
    "\n",
    "\n",
    "import time\n",
    "\n",
    "#needed for pipeline\n",
    "import os\n",
    "import sys\n",
    "\n",
    "sns.set()\n",
    "%matplotlib inline"
   ]
  },
  {
   "cell_type": "code",
   "execution_count": 13,
   "metadata": {},
   "outputs": [],
   "source": [
    "sys.path.insert(0, 'src/')\n",
    "#src files \n",
    "import utilities\n",
    "import data_processing as dp\n",
    "import neural_nets "
   ]
  },
  {
   "cell_type": "markdown",
   "metadata": {},
   "source": [
    "# Data pipeline and features extraction"
   ]
  },
  {
   "cell_type": "markdown",
   "metadata": {},
   "source": [
    "first we load the data"
   ]
  },
  {
   "cell_type": "code",
   "execution_count": 14,
   "metadata": {},
   "outputs": [],
   "source": [
    "samples, emotion = dp.load_data(path = \"data/wav\")"
   ]
  },
  {
   "cell_type": "code",
   "execution_count": 15,
   "metadata": {},
   "outputs": [],
   "source": [
    "dp.import_wave_wrapper(samples)"
   ]
  },
  {
   "cell_type": "markdown",
   "metadata": {},
   "source": [
    "Then we extract some features: \n",
    "\n",
    " - mfcc\n",
    " - spectral measurements\n",
    " - logfbank\n",
    " - ...\n",
    " \n",
    "All of these were proposed in the articles aforementioned"
   ]
  },
  {
   "cell_type": "markdown",
   "metadata": {},
   "source": [
    " <span style=\"color:red\"> Since it takes some time extract the features and profile the resulting dataframe one can just skip this part to the next red writing and load the resulting dataframe stored in </span> `data/features.csv` "
   ]
  },
  {
   "cell_type": "code",
   "execution_count": 5,
   "metadata": {},
   "outputs": [],
   "source": [
    "dp.extract_feature(samples, librosa.feature.mfcc, \"mfcc\")"
   ]
  },
  {
   "cell_type": "code",
   "execution_count": 6,
   "metadata": {},
   "outputs": [],
   "source": [
    "dp.extract_feature(samples, librosa.feature.spectral_centroid, \"spectral_centroid\")"
   ]
  },
  {
   "cell_type": "code",
   "execution_count": 7,
   "metadata": {},
   "outputs": [],
   "source": [
    "dp.extract_feature(samples, librosa.feature.spectral_rolloff, \"spectral_rolloff\")"
   ]
  },
  {
   "cell_type": "code",
   "execution_count": 8,
   "metadata": {},
   "outputs": [],
   "source": [
    "dp.extract_feature(samples, python_speech_features.logfbank , \"logfbank\")"
   ]
  },
  {
   "cell_type": "code",
   "execution_count": 9,
   "metadata": {},
   "outputs": [],
   "source": [
    "dp.extract_feature(samples, python_speech_features.ssc, \"spectral_subband_centroid\")"
   ]
  },
  {
   "cell_type": "markdown",
   "metadata": {},
   "source": [
    "Then we extract a measure of the ratio between the spoken time and the unspoken time of the audio sample\n",
    "\n",
    "This part is done manually and could be greatly improved as for the speed and the accuracy"
   ]
  },
  {
   "cell_type": "code",
   "execution_count": 10,
   "metadata": {},
   "outputs": [],
   "source": [
    "dp.ratio(samples)"
   ]
  },
  {
   "cell_type": "markdown",
   "metadata": {},
   "source": [
    "Now let's examine our dataframe with our newly added features"
   ]
  },
  {
   "cell_type": "code",
   "execution_count": 11,
   "metadata": {},
   "outputs": [
    {
     "data": {
      "text/html": [
       "<div>\n",
       "<style scoped>\n",
       "    .dataframe tbody tr th:only-of-type {\n",
       "        vertical-align: middle;\n",
       "    }\n",
       "\n",
       "    .dataframe tbody tr th {\n",
       "        vertical-align: top;\n",
       "    }\n",
       "\n",
       "    .dataframe thead th {\n",
       "        text-align: right;\n",
       "    }\n",
       "</style>\n",
       "<table border=\"1\" class=\"dataframe\">\n",
       "  <thead>\n",
       "    <tr style=\"text-align: right;\">\n",
       "      <th></th>\n",
       "      <th>id</th>\n",
       "      <th>actor</th>\n",
       "      <th>text</th>\n",
       "      <th>emotion</th>\n",
       "      <th>sound</th>\n",
       "      <th>length</th>\n",
       "      <th>mfcc_mean</th>\n",
       "      <th>mfcc_sd</th>\n",
       "      <th>mfcc_median</th>\n",
       "      <th>mfcc_max</th>\n",
       "      <th>...</th>\n",
       "      <th>logfbank_sd</th>\n",
       "      <th>logfbank_median</th>\n",
       "      <th>logfbank_max</th>\n",
       "      <th>logfbank_min</th>\n",
       "      <th>spectral_subband_centroid_mean</th>\n",
       "      <th>spectral_subband_centroid_sd</th>\n",
       "      <th>spectral_subband_centroid_median</th>\n",
       "      <th>spectral_subband_centroid_max</th>\n",
       "      <th>spectral_subband_centroid_min</th>\n",
       "      <th>ratio</th>\n",
       "    </tr>\n",
       "  </thead>\n",
       "  <tbody>\n",
       "    <tr>\n",
       "      <th>0</th>\n",
       "      <td>data/wav/03b10Wc.wav</td>\n",
       "      <td>03</td>\n",
       "      <td>b10</td>\n",
       "      <td>4</td>\n",
       "      <td>[0.00012207031, -0.00039672852, -0.0002746582,...</td>\n",
       "      <td>39072</td>\n",
       "      <td>-3.895151</td>\n",
       "      <td>46.586504</td>\n",
       "      <td>-2.257769</td>\n",
       "      <td>182.010078</td>\n",
       "      <td>...</td>\n",
       "      <td>4.233969</td>\n",
       "      <td>-9.322322</td>\n",
       "      <td>-0.697060</td>\n",
       "      <td>-24.167197</td>\n",
       "      <td>347.567326</td>\n",
       "      <td>220.464140</td>\n",
       "      <td>323.985583</td>\n",
       "      <td>776.815976</td>\n",
       "      <td>13.265750</td>\n",
       "      <td>0.196729</td>\n",
       "    </tr>\n",
       "    <tr>\n",
       "      <th>1</th>\n",
       "      <td>data/wav/15a05Na.wav</td>\n",
       "      <td>15</td>\n",
       "      <td>a05</td>\n",
       "      <td>6</td>\n",
       "      <td>[0.00036621094, 0.00045776367, 0.0009460449, 0...</td>\n",
       "      <td>49935</td>\n",
       "      <td>2.928844</td>\n",
       "      <td>53.183098</td>\n",
       "      <td>5.190972</td>\n",
       "      <td>202.840489</td>\n",
       "      <td>...</td>\n",
       "      <td>3.762019</td>\n",
       "      <td>-11.025209</td>\n",
       "      <td>-1.556346</td>\n",
       "      <td>-22.480588</td>\n",
       "      <td>347.449888</td>\n",
       "      <td>220.688609</td>\n",
       "      <td>324.281057</td>\n",
       "      <td>780.310658</td>\n",
       "      <td>13.540170</td>\n",
       "      <td>0.265555</td>\n",
       "    </tr>\n",
       "    <tr>\n",
       "      <th>2</th>\n",
       "      <td>data/wav/12a05Ta.wav</td>\n",
       "      <td>12</td>\n",
       "      <td>a05</td>\n",
       "      <td>5</td>\n",
       "      <td>[0.0029907227, 0.0027160645, 0.0032653809, 0.0...</td>\n",
       "      <td>85764</td>\n",
       "      <td>1.769312</td>\n",
       "      <td>60.040993</td>\n",
       "      <td>4.691081</td>\n",
       "      <td>175.701415</td>\n",
       "      <td>...</td>\n",
       "      <td>3.535917</td>\n",
       "      <td>-11.367481</td>\n",
       "      <td>-0.252393</td>\n",
       "      <td>-21.435957</td>\n",
       "      <td>347.440277</td>\n",
       "      <td>220.762034</td>\n",
       "      <td>324.396715</td>\n",
       "      <td>778.712336</td>\n",
       "      <td>12.941210</td>\n",
       "      <td>0.320665</td>\n",
       "    </tr>\n",
       "    <tr>\n",
       "      <th>3</th>\n",
       "      <td>data/wav/10a07Ta.wav</td>\n",
       "      <td>10</td>\n",
       "      <td>a07</td>\n",
       "      <td>5</td>\n",
       "      <td>[0.00024414062, -0.00024414062, -0.00076293945...</td>\n",
       "      <td>31293</td>\n",
       "      <td>6.343056</td>\n",
       "      <td>55.040812</td>\n",
       "      <td>8.138438</td>\n",
       "      <td>160.072857</td>\n",
       "      <td>...</td>\n",
       "      <td>3.450362</td>\n",
       "      <td>-10.460599</td>\n",
       "      <td>0.252841</td>\n",
       "      <td>-19.892496</td>\n",
       "      <td>347.465065</td>\n",
       "      <td>221.027697</td>\n",
       "      <td>324.061949</td>\n",
       "      <td>777.401728</td>\n",
       "      <td>12.851754</td>\n",
       "      <td>0.137927</td>\n",
       "    </tr>\n",
       "    <tr>\n",
       "      <th>4</th>\n",
       "      <td>data/wav/14a02La.wav</td>\n",
       "      <td>14</td>\n",
       "      <td>a02</td>\n",
       "      <td>3</td>\n",
       "      <td>[0.0002746582, -0.0002746582, 0.00012207031, 0...</td>\n",
       "      <td>31211</td>\n",
       "      <td>1.670838</td>\n",
       "      <td>55.751518</td>\n",
       "      <td>2.586206</td>\n",
       "      <td>186.564716</td>\n",
       "      <td>...</td>\n",
       "      <td>3.684091</td>\n",
       "      <td>-11.053970</td>\n",
       "      <td>-1.614739</td>\n",
       "      <td>-22.178161</td>\n",
       "      <td>347.396854</td>\n",
       "      <td>220.770733</td>\n",
       "      <td>323.205094</td>\n",
       "      <td>779.215365</td>\n",
       "      <td>13.313539</td>\n",
       "      <td>0.312158</td>\n",
       "    </tr>\n",
       "  </tbody>\n",
       "</table>\n",
       "<p>5 rows × 32 columns</p>\n",
       "</div>"
      ],
      "text/plain": [
       "                     id actor text  emotion  \\\n",
       "0  data/wav/03b10Wc.wav    03  b10        4   \n",
       "1  data/wav/15a05Na.wav    15  a05        6   \n",
       "2  data/wav/12a05Ta.wav    12  a05        5   \n",
       "3  data/wav/10a07Ta.wav    10  a07        5   \n",
       "4  data/wav/14a02La.wav    14  a02        3   \n",
       "\n",
       "                                               sound  length  mfcc_mean  \\\n",
       "0  [0.00012207031, -0.00039672852, -0.0002746582,...   39072  -3.895151   \n",
       "1  [0.00036621094, 0.00045776367, 0.0009460449, 0...   49935   2.928844   \n",
       "2  [0.0029907227, 0.0027160645, 0.0032653809, 0.0...   85764   1.769312   \n",
       "3  [0.00024414062, -0.00024414062, -0.00076293945...   31293   6.343056   \n",
       "4  [0.0002746582, -0.0002746582, 0.00012207031, 0...   31211   1.670838   \n",
       "\n",
       "     mfcc_sd  mfcc_median    mfcc_max    ...     logfbank_sd  logfbank_median  \\\n",
       "0  46.586504    -2.257769  182.010078    ...        4.233969        -9.322322   \n",
       "1  53.183098     5.190972  202.840489    ...        3.762019       -11.025209   \n",
       "2  60.040993     4.691081  175.701415    ...        3.535917       -11.367481   \n",
       "3  55.040812     8.138438  160.072857    ...        3.450362       -10.460599   \n",
       "4  55.751518     2.586206  186.564716    ...        3.684091       -11.053970   \n",
       "\n",
       "   logfbank_max  logfbank_min  spectral_subband_centroid_mean  \\\n",
       "0     -0.697060    -24.167197                      347.567326   \n",
       "1     -1.556346    -22.480588                      347.449888   \n",
       "2     -0.252393    -21.435957                      347.440277   \n",
       "3      0.252841    -19.892496                      347.465065   \n",
       "4     -1.614739    -22.178161                      347.396854   \n",
       "\n",
       "   spectral_subband_centroid_sd  spectral_subband_centroid_median  \\\n",
       "0                    220.464140                        323.985583   \n",
       "1                    220.688609                        324.281057   \n",
       "2                    220.762034                        324.396715   \n",
       "3                    221.027697                        324.061949   \n",
       "4                    220.770733                        323.205094   \n",
       "\n",
       "   spectral_subband_centroid_max  spectral_subband_centroid_min     ratio  \n",
       "0                     776.815976                      13.265750  0.196729  \n",
       "1                     780.310658                      13.540170  0.265555  \n",
       "2                     778.712336                      12.941210  0.320665  \n",
       "3                     777.401728                      12.851754  0.137927  \n",
       "4                     779.215365                      13.313539  0.312158  \n",
       "\n",
       "[5 rows x 32 columns]"
      ]
     },
     "execution_count": 11,
     "metadata": {},
     "output_type": "execute_result"
    }
   ],
   "source": [
    "samples.head()"
   ]
  },
  {
   "cell_type": "markdown",
   "metadata": {},
   "source": [
    "We do some profiling of the data to gain insight of the ditribution of our data and save the results"
   ]
  },
  {
   "cell_type": "code",
   "execution_count": 12,
   "metadata": {},
   "outputs": [],
   "source": [
    "pandas_profiling.ProfileReport(samples.drop(['id',\"actor\",\"text\",\"emotion\",\"sound\"], axis=1)).to_file(outputfile=\"results/features_exploration.html\")"
   ]
  },
  {
   "cell_type": "code",
   "execution_count": 13,
   "metadata": {},
   "outputs": [],
   "source": [
    "samples.to_csv(\"data/features.csv\",index=False)"
   ]
  },
  {
   "cell_type": "markdown",
   "metadata": {},
   "source": [
    " <span style=\"color:red\"> uncomment the following line to load the resulting dataframe stored in `data/features.csv` </span>"
   ]
  },
  {
   "cell_type": "code",
   "execution_count": 16,
   "metadata": {},
   "outputs": [],
   "source": [
    "samples = pd.read_csv(\"data/features.csv\")\n",
    "\n",
    "#necessary to re_import the sound, otherwise treated as a string from the loading process\n",
    "dp.import_wave_wrapper(samples)"
   ]
  },
  {
   "cell_type": "markdown",
   "metadata": {},
   "source": [
    "From the report we get that:\n",
    "- sampling rate is constant 16000 and can be then eliminated\n",
    "- length has some outliers above 99447 and below 23414\n",
    "- from the others histograms there do not seem to be outliers or missing values which have been replaced by a default value"
   ]
  },
  {
   "cell_type": "code",
   "execution_count": 18,
   "metadata": {},
   "outputs": [
    {
     "data": {
      "image/png": "[encoded data removed]",
      "text/plain": [
       "<Figure size 432x288 with 1 Axes>"
      ]
     },
     "metadata": {
      "needs_background": "light"
     },
     "output_type": "display_data"
    }
   ],
   "source": [
    "proportion = []\n",
    "total = len(samples.index)\n",
    "for e in np.arange(len(emotion)):\n",
    "    proportion.append(100*len(samples[samples[\"emotion\"]==e].index)/total)\n",
    "    \n",
    "\n",
    "x = np.arange(len(emotion))\n",
    "\n",
    "\n",
    "fig, ax = plt.subplots()\n",
    "plt.bar(x, proportion)\n",
    "plt.xticks(x, emotion)\n",
    "plt.xlabel(\"Emotions\")\n",
    "plt.ylabel(\"proportion in %\")\n",
    "plt.tight_layout()\n",
    "#plt.savefig('results/plots/proportion.png',dpi = 1000)\n",
    "plt.show()"
   ]
  },
  {
   "cell_type": "code",
   "execution_count": 37,
   "metadata": {},
   "outputs": [
    {
     "data": {
      "text/html": [
       "<div>\n",
       "<style scoped>\n",
       "    .dataframe tbody tr th:only-of-type {\n",
       "        vertical-align: middle;\n",
       "    }\n",
       "\n",
       "    .dataframe tbody tr th {\n",
       "        vertical-align: top;\n",
       "    }\n",
       "\n",
       "    .dataframe thead th {\n",
       "        text-align: right;\n",
       "    }\n",
       "</style>\n",
       "<table border=\"1\" class=\"dataframe\">\n",
       "  <thead>\n",
       "    <tr style=\"text-align: right;\">\n",
       "      <th></th>\n",
       "      <th>id</th>\n",
       "      <th>actor</th>\n",
       "      <th>text</th>\n",
       "      <th>emotion</th>\n",
       "      <th>sound</th>\n",
       "      <th>length</th>\n",
       "      <th>mfcc_mean</th>\n",
       "      <th>mfcc_sd</th>\n",
       "      <th>mfcc_median</th>\n",
       "      <th>mfcc_max</th>\n",
       "      <th>...</th>\n",
       "      <th>logfbank_sd</th>\n",
       "      <th>logfbank_median</th>\n",
       "      <th>logfbank_max</th>\n",
       "      <th>logfbank_min</th>\n",
       "      <th>spectral_subband_centroid_mean</th>\n",
       "      <th>spectral_subband_centroid_sd</th>\n",
       "      <th>spectral_subband_centroid_median</th>\n",
       "      <th>spectral_subband_centroid_max</th>\n",
       "      <th>spectral_subband_centroid_min</th>\n",
       "      <th>ratio</th>\n",
       "    </tr>\n",
       "  </thead>\n",
       "  <tbody>\n",
       "    <tr>\n",
       "      <th>23</th>\n",
       "      <td>data/wav/03a07Wc.wav</td>\n",
       "      <td>3</td>\n",
       "      <td>a07</td>\n",
       "      <td>4</td>\n",
       "      <td>[6.1035156e-05, 0.0007019043, 0.0007324219, 0....</td>\n",
       "      <td>33401</td>\n",
       "      <td>-2.932896</td>\n",
       "      <td>45.819030</td>\n",
       "      <td>-1.995782</td>\n",
       "      <td>175.443725</td>\n",
       "      <td>...</td>\n",
       "      <td>4.121605</td>\n",
       "      <td>-8.915630</td>\n",
       "      <td>-1.005504</td>\n",
       "      <td>-24.288764</td>\n",
       "      <td>347.589238</td>\n",
       "      <td>220.420316</td>\n",
       "      <td>324.080228</td>\n",
       "      <td>779.176019</td>\n",
       "      <td>13.319966</td>\n",
       "      <td>0.184475</td>\n",
       "    </tr>\n",
       "    <tr>\n",
       "      <th>95</th>\n",
       "      <td>data/wav/03a07Fa.wav</td>\n",
       "      <td>3</td>\n",
       "      <td>a07</td>\n",
       "      <td>2</td>\n",
       "      <td>[-0.0005493164, -0.0011901855, -0.0022888184, ...</td>\n",
       "      <td>34141</td>\n",
       "      <td>1.323991</td>\n",
       "      <td>44.839523</td>\n",
       "      <td>1.785695</td>\n",
       "      <td>140.781965</td>\n",
       "      <td>...</td>\n",
       "      <td>3.789585</td>\n",
       "      <td>-9.127146</td>\n",
       "      <td>0.336442</td>\n",
       "      <td>-23.619038</td>\n",
       "      <td>347.517847</td>\n",
       "      <td>220.540533</td>\n",
       "      <td>323.955220</td>\n",
       "      <td>776.151806</td>\n",
       "      <td>13.334790</td>\n",
       "      <td>0.212350</td>\n",
       "    </tr>\n",
       "    <tr>\n",
       "      <th>217</th>\n",
       "      <td>data/wav/03a07Fb.wav</td>\n",
       "      <td>3</td>\n",
       "      <td>a07</td>\n",
       "      <td>2</td>\n",
       "      <td>[0.0025634766, 0.0026245117, 0.0025634766, 0.0...</td>\n",
       "      <td>39198</td>\n",
       "      <td>-0.559501</td>\n",
       "      <td>41.486846</td>\n",
       "      <td>0.058653</td>\n",
       "      <td>142.524073</td>\n",
       "      <td>...</td>\n",
       "      <td>3.731525</td>\n",
       "      <td>-8.632639</td>\n",
       "      <td>-0.224006</td>\n",
       "      <td>-22.616822</td>\n",
       "      <td>347.510065</td>\n",
       "      <td>220.548576</td>\n",
       "      <td>324.705580</td>\n",
       "      <td>775.127183</td>\n",
       "      <td>13.703880</td>\n",
       "      <td>0.122316</td>\n",
       "    </tr>\n",
       "    <tr>\n",
       "      <th>225</th>\n",
       "      <td>data/wav/03a07La.wav</td>\n",
       "      <td>3</td>\n",
       "      <td>a07</td>\n",
       "      <td>3</td>\n",
       "      <td>[-0.007751465, -0.0075683594, -0.007751465, -0...</td>\n",
       "      <td>38425</td>\n",
       "      <td>5.668417</td>\n",
       "      <td>50.179973</td>\n",
       "      <td>6.141254</td>\n",
       "      <td>197.421573</td>\n",
       "      <td>...</td>\n",
       "      <td>3.325621</td>\n",
       "      <td>-10.036351</td>\n",
       "      <td>-0.041171</td>\n",
       "      <td>-19.970633</td>\n",
       "      <td>347.416017</td>\n",
       "      <td>220.779266</td>\n",
       "      <td>324.498736</td>\n",
       "      <td>779.364941</td>\n",
       "      <td>13.389675</td>\n",
       "      <td>0.109395</td>\n",
       "    </tr>\n",
       "    <tr>\n",
       "      <th>371</th>\n",
       "      <td>data/wav/03a07Nc.wav</td>\n",
       "      <td>3</td>\n",
       "      <td>a07</td>\n",
       "      <td>6</td>\n",
       "      <td>[0.00018310547, 0.00045776367, 0.0002746582, 0...</td>\n",
       "      <td>28610</td>\n",
       "      <td>5.710174</td>\n",
       "      <td>50.949592</td>\n",
       "      <td>5.409512</td>\n",
       "      <td>204.430558</td>\n",
       "      <td>...</td>\n",
       "      <td>3.826613</td>\n",
       "      <td>-10.109882</td>\n",
       "      <td>-0.642875</td>\n",
       "      <td>-21.855272</td>\n",
       "      <td>347.420943</td>\n",
       "      <td>220.933136</td>\n",
       "      <td>324.803626</td>\n",
       "      <td>777.601406</td>\n",
       "      <td>12.895386</td>\n",
       "      <td>0.184336</td>\n",
       "    </tr>\n",
       "  </tbody>\n",
       "</table>\n",
       "<p>5 rows × 32 columns</p>\n",
       "</div>"
      ],
      "text/plain": [
       "                       id  actor text  emotion  \\\n",
       "23   data/wav/03a07Wc.wav      3  a07        4   \n",
       "95   data/wav/03a07Fa.wav      3  a07        2   \n",
       "217  data/wav/03a07Fb.wav      3  a07        2   \n",
       "225  data/wav/03a07La.wav      3  a07        3   \n",
       "371  data/wav/03a07Nc.wav      3  a07        6   \n",
       "\n",
       "                                                 sound  length  mfcc_mean  \\\n",
       "23   [6.1035156e-05, 0.0007019043, 0.0007324219, 0....   33401  -2.932896   \n",
       "95   [-0.0005493164, -0.0011901855, -0.0022888184, ...   34141   1.323991   \n",
       "217  [0.0025634766, 0.0026245117, 0.0025634766, 0.0...   39198  -0.559501   \n",
       "225  [-0.007751465, -0.0075683594, -0.007751465, -0...   38425   5.668417   \n",
       "371  [0.00018310547, 0.00045776367, 0.0002746582, 0...   28610   5.710174   \n",
       "\n",
       "       mfcc_sd  mfcc_median    mfcc_max    ...     logfbank_sd  \\\n",
       "23   45.819030    -1.995782  175.443725    ...        4.121605   \n",
       "95   44.839523     1.785695  140.781965    ...        3.789585   \n",
       "217  41.486846     0.058653  142.524073    ...        3.731525   \n",
       "225  50.179973     6.141254  197.421573    ...        3.325621   \n",
       "371  50.949592     5.409512  204.430558    ...        3.826613   \n",
       "\n",
       "     logfbank_median  logfbank_max  logfbank_min  \\\n",
       "23         -8.915630     -1.005504    -24.288764   \n",
       "95         -9.127146      0.336442    -23.619038   \n",
       "217        -8.632639     -0.224006    -22.616822   \n",
       "225       -10.036351     -0.041171    -19.970633   \n",
       "371       -10.109882     -0.642875    -21.855272   \n",
       "\n",
       "     spectral_subband_centroid_mean  spectral_subband_centroid_sd  \\\n",
       "23                       347.589238                    220.420316   \n",
       "95                       347.517847                    220.540533   \n",
       "217                      347.510065                    220.548576   \n",
       "225                      347.416017                    220.779266   \n",
       "371                      347.420943                    220.933136   \n",
       "\n",
       "     spectral_subband_centroid_median  spectral_subband_centroid_max  \\\n",
       "23                         324.080228                     779.176019   \n",
       "95                         323.955220                     776.151806   \n",
       "217                        324.705580                     775.127183   \n",
       "225                        324.498736                     779.364941   \n",
       "371                        324.803626                     777.601406   \n",
       "\n",
       "     spectral_subband_centroid_min     ratio  \n",
       "23                       13.319966  0.184475  \n",
       "95                       13.334790  0.212350  \n",
       "217                      13.703880  0.122316  \n",
       "225                      13.389675  0.109395  \n",
       "371                      12.895386  0.184336  \n",
       "\n",
       "[5 rows x 32 columns]"
      ]
     },
     "execution_count": 37,
     "metadata": {},
     "output_type": "execute_result"
    }
   ],
   "source": [
    "samples[(samples[\"actor\"] == samples[\"actor\"][23]) & (samples[\"text\"] == samples[\"text\"][23])]"
   ]
  },
  {
   "cell_type": "code",
   "execution_count": 41,
   "metadata": {},
   "outputs": [
    {
     "data": {
      "image/png": "[encoded data removed]",
      "text/plain": [
       "<Figure size 432x288 with 1 Axes>"
      ]
     },
     "metadata": {
      "needs_background": "light"
     },
     "output_type": "display_data"
    },
    {
     "data": {
      "image/png": "[encoded data removed]",
      "text/plain": [
       "<Figure size 432x288 with 1 Axes>"
      ]
     },
     "metadata": {
      "needs_background": "light"
     },
     "output_type": "display_data"
    }
   ],
   "source": [
    "i =23\n",
    "y = samples[\"sound\"][i]\n",
    "librosa.display.waveplot(y,1600)\n",
    "plt.ylabel(\"Relative intensity\")\n",
    "plt.title(\"sound sample, emotion: {}\".format(emotion[samples[\"emotion\"][i]]))\n",
    "plt.tight_layout()\n",
    "plt.savefig(\"results/plots/sound_samples.png\", dpi =100)\n",
    "plt.show()\n",
    "\n",
    "i = 225\n",
    "y = samples[\"sound\"][i]\n",
    "librosa.display.waveplot(y,1600)\n",
    "plt.ylabel(\"Relative Intensity\")\n",
    "plt.title(\"sound sample, emotion: {}\".format(emotion[samples[\"emotion\"][i]]))\n",
    "plt.tight_layout()\n",
    "plt.savefig(\"results/plots/sound_samples_1.png\", dpi =100)\n",
    "plt.show()"
   ]
  },
  {
   "cell_type": "markdown",
   "metadata": {},
   "source": [
    "# Neural Nets"
   ]
  },
  {
   "cell_type": "markdown",
   "metadata": {},
   "source": [
    "#### Fully connected neural network with 4 hidden layers"
   ]
  },
  {
   "cell_type": "code",
   "execution_count": 19,
   "metadata": {},
   "outputs": [],
   "source": [
    "features = ['length', 'mfcc_mean', 'mfcc_sd', 'mfcc_median', 'mfcc_max', 'mfcc_min',\n",
    "       'spectral_centroid_mean', 'spectral_centroid_sd',\n",
    "       'spectral_centroid_median', 'spectral_centroid_max',\n",
    "       'spectral_centroid_min', 'spectral_rolloff_mean', 'spectral_rolloff_sd',\n",
    "       'spectral_rolloff_median', 'spectral_rolloff_max',\n",
    "       'spectral_rolloff_min', 'logfbank_mean', 'logfbank_sd',\n",
    "       'logfbank_median', 'logfbank_max', 'logfbank_min',\n",
    "       'spectral_subband_centroid_mean', 'spectral_subband_centroid_sd',\n",
    "       'spectral_subband_centroid_median', 'spectral_subband_centroid_max',\n",
    "       'spectral_subband_centroid_min', 'ratio']\n",
    "\n",
    "#creating torch tensor from the dataframe\n",
    "X = torch.tensor(samples[features].values).type(torch.FloatTensor)\n",
    "target = torch.tensor(samples[\"emotion\"].values).type(torch.LongTensor)\n",
    "\n",
    "#splitting the data into test and train\n",
    "train_input, train_target, test_input, test_target = utilities.split_train_test(X,target)"
   ]
  },
  {
   "cell_type": "code",
   "execution_count": 20,
   "metadata": {},
   "outputs": [
    {
     "name": "stdout",
     "output_type": "stream",
     "text": [
      "epoch   0, loss training: 1.537, train accuracy 48.364,  test accuracy 39.252\n",
      "epoch  10, loss training: 0.355, train accuracy 88.551,  test accuracy 66.355\n",
      "epoch  20, loss training: 0.110, train accuracy 96.262,  test accuracy 66.355\n",
      "epoch  30, loss training: 0.028, train accuracy 100.000,  test accuracy 67.290\n",
      "epoch  40, loss training: 0.009, train accuracy 100.000,  test accuracy 69.159\n",
      "epoch  50, loss training: 0.005, train accuracy 100.000,  test accuracy 68.224\n",
      "epoch  60, loss training: 0.003, train accuracy 100.000,  test accuracy 69.159\n",
      "epoch  70, loss training: 0.002, train accuracy 100.000,  test accuracy 69.159\n",
      "epoch  80, loss training: 0.002, train accuracy 100.000,  test accuracy 69.159\n",
      "epoch  90, loss training: 0.001, train accuracy 100.000,  test accuracy 69.159\n",
      "epoch 100, loss training: 0.001, train accuracy 100.000,  test accuracy 69.159\n",
      "epoch 110, loss training: 0.001, train accuracy 100.000,  test accuracy 69.159\n",
      "epoch 120, loss training: 0.001, train accuracy 100.000,  test accuracy 69.159\n",
      "epoch 130, loss training: 0.001, train accuracy 100.000,  test accuracy 69.159\n",
      "epoch 140, loss training: 0.000, train accuracy 100.000,  test accuracy 69.159\n",
      "epoch 150, loss training: 0.000, train accuracy 100.000,  test accuracy 69.159\n",
      "epoch 160, loss training: 0.000, train accuracy 100.000,  test accuracy 69.159\n",
      "epoch 170, loss training: 0.000, train accuracy 100.000,  test accuracy 69.159\n",
      "epoch 180, loss training: 0.000, train accuracy 100.000,  test accuracy 69.159\n",
      "epoch 190, loss training: 0.000, train accuracy 100.000,  test accuracy 69.159\n",
      "\n",
      "\n",
      "Time to train: 4.9510 seconds\n",
      "\n",
      "\n"
     ]
    },
    {
     "data": {
      "image/png": "[encoded data removed]",
      "text/plain": [
       "<Figure size 432x288 with 2 Axes>"
      ]
     },
     "metadata": {
      "needs_background": "light"
     },
     "output_type": "display_data"
    },
    {
     "data": {
      "image/png": "[encoded data removed]",
      "text/plain": [
       "<Figure size 432x288 with 1 Axes>"
      ]
     },
     "metadata": {
      "needs_background": "light"
     },
     "output_type": "display_data"
    }
   ],
   "source": [
    "batch_size = int(train_input.size(0)/10)\n",
    "epochs = 200\n",
    "\n",
    "\n",
    "\n",
    "model = neural_nets.Net()\n",
    "model.float()\n",
    "\n",
    "learning_rate = 1e-4\n",
    "# create a stochastic gradient descent optimizer\n",
    "optimizer = torch.optim.Adam(model.parameters())\n",
    "# create a loss function\n",
    "criterion = nn.CrossEntropyLoss()\n",
    "\n",
    "neural_nets.train_model(model, train_input, train_target, test_input, test_target, optimizer, criterion, batch_size, epochs, rate_print = 10, chrono=True, plots=True, save=True, title='fully connected')"
   ]
  },
  {
   "cell_type": "code",
   "execution_count": 21,
   "metadata": {},
   "outputs": [],
   "source": [
    "#torch.save(model.state_dict(), \"results/models/fully_connected_nn_0.pt\")"
   ]
  },
  {
   "cell_type": "markdown",
   "metadata": {},
   "source": [
    "If you need to just load the model"
   ]
  },
  {
   "cell_type": "code",
   "execution_count": 15,
   "metadata": {},
   "outputs": [
    {
     "data": {
      "text/plain": [
       "Net(\n",
       "  (fc1): Linear(in_features=27, out_features=200, bias=True)\n",
       "  (fc2): Linear(in_features=200, out_features=200, bias=True)\n",
       "  (fc3): Linear(in_features=200, out_features=200, bias=True)\n",
       "  (fc4): Linear(in_features=200, out_features=7, bias=True)\n",
       ")"
      ]
     },
     "execution_count": 15,
     "metadata": {},
     "output_type": "execute_result"
    }
   ],
   "source": [
    "model = neural_nets.Net()\n",
    "model.load_state_dict(torch.load(\"results/models/fully_connected_nn_0.pt\"))\n",
    "model.eval()"
   ]
  },
  {
   "cell_type": "code",
   "execution_count": 23,
   "metadata": {},
   "outputs": [
    {
     "data": {
      "text/html": [
       "<div>\n",
       "<style scoped>\n",
       "    .dataframe tbody tr th:only-of-type {\n",
       "        vertical-align: middle;\n",
       "    }\n",
       "\n",
       "    .dataframe tbody tr th {\n",
       "        vertical-align: top;\n",
       "    }\n",
       "\n",
       "    .dataframe thead th {\n",
       "        text-align: right;\n",
       "    }\n",
       "</style>\n",
       "<table border=\"1\" class=\"dataframe\">\n",
       "  <thead>\n",
       "    <tr style=\"text-align: right;\">\n",
       "      <th></th>\n",
       "      <th>anxiety</th>\n",
       "      <th>disgust</th>\n",
       "      <th>happy</th>\n",
       "      <th>boredom</th>\n",
       "      <th>anger</th>\n",
       "      <th>sadness</th>\n",
       "      <th>neutral</th>\n",
       "    </tr>\n",
       "  </thead>\n",
       "  <tbody>\n",
       "    <tr>\n",
       "      <th>anxiety</th>\n",
       "      <td>84.62</td>\n",
       "      <td>0.00</td>\n",
       "      <td>7.69</td>\n",
       "      <td>0.00</td>\n",
       "      <td>0.00</td>\n",
       "      <td>0.00</td>\n",
       "      <td>7.69</td>\n",
       "    </tr>\n",
       "    <tr>\n",
       "      <th>disgust</th>\n",
       "      <td>10.00</td>\n",
       "      <td>60.00</td>\n",
       "      <td>0.00</td>\n",
       "      <td>5.00</td>\n",
       "      <td>10.00</td>\n",
       "      <td>10.00</td>\n",
       "      <td>5.00</td>\n",
       "    </tr>\n",
       "    <tr>\n",
       "      <th>happy</th>\n",
       "      <td>14.29</td>\n",
       "      <td>7.14</td>\n",
       "      <td>42.86</td>\n",
       "      <td>0.00</td>\n",
       "      <td>35.71</td>\n",
       "      <td>0.00</td>\n",
       "      <td>0.00</td>\n",
       "    </tr>\n",
       "    <tr>\n",
       "      <th>boredom</th>\n",
       "      <td>11.76</td>\n",
       "      <td>0.00</td>\n",
       "      <td>0.00</td>\n",
       "      <td>64.71</td>\n",
       "      <td>0.00</td>\n",
       "      <td>11.76</td>\n",
       "      <td>11.76</td>\n",
       "    </tr>\n",
       "    <tr>\n",
       "      <th>anger</th>\n",
       "      <td>5.88</td>\n",
       "      <td>5.88</td>\n",
       "      <td>5.88</td>\n",
       "      <td>0.00</td>\n",
       "      <td>82.35</td>\n",
       "      <td>0.00</td>\n",
       "      <td>0.00</td>\n",
       "    </tr>\n",
       "    <tr>\n",
       "      <th>sadness</th>\n",
       "      <td>0.00</td>\n",
       "      <td>0.00</td>\n",
       "      <td>0.00</td>\n",
       "      <td>11.11</td>\n",
       "      <td>0.00</td>\n",
       "      <td>88.89</td>\n",
       "      <td>0.00</td>\n",
       "    </tr>\n",
       "    <tr>\n",
       "      <th>neutral</th>\n",
       "      <td>11.76</td>\n",
       "      <td>0.00</td>\n",
       "      <td>0.00</td>\n",
       "      <td>17.65</td>\n",
       "      <td>0.00</td>\n",
       "      <td>0.00</td>\n",
       "      <td>70.59</td>\n",
       "    </tr>\n",
       "  </tbody>\n",
       "</table>\n",
       "</div>"
      ],
      "text/plain": [
       "         anxiety  disgust  happy  boredom  anger  sadness  neutral\n",
       "anxiety    84.62     0.00   7.69     0.00   0.00     0.00     7.69\n",
       "disgust    10.00    60.00   0.00     5.00  10.00    10.00     5.00\n",
       "happy      14.29     7.14  42.86     0.00  35.71     0.00     0.00\n",
       "boredom    11.76     0.00   0.00    64.71   0.00    11.76    11.76\n",
       "anger       5.88     5.88   5.88     0.00  82.35     0.00     0.00\n",
       "sadness     0.00     0.00   0.00    11.11   0.00    88.89     0.00\n",
       "neutral    11.76     0.00   0.00    17.65   0.00     0.00    70.59"
      ]
     },
     "execution_count": 23,
     "metadata": {},
     "output_type": "execute_result"
    }
   ],
   "source": [
    "out = model(test_input)\n",
    "target = test_target\n",
    "dic = {0:[],1:[],2:[],3:[],4:[],5:[],6:[]}\n",
    "\n",
    "#could do it without for loop, but I think it is clearer\n",
    "for i, goal in enumerate(target):\n",
    "    dic[goal.item()].append(torch.argmax(out[i]).item())\n",
    "matrix = np.zeros((7,7))\n",
    "for i in range(7):\n",
    "    for j in range(7):\n",
    "        matrix[i,j]= np.round(100*len(np.where(np.asarray(dic[i]) == j)[0])/len(np.asarray(dic[i])),decimals = 2)\n",
    "confusion_matrix = pd.DataFrame(matrix,index = emotion,columns=emotion)\n",
    "confusion_matrix.to_csv(\"results/confusion_matrix_nn.csv\", index = False)\n",
    "confusion_matrix"
   ]
  },
  {
   "cell_type": "markdown",
   "metadata": {},
   "source": [
    "#### convolutional neural network based on the images representation of the sound samples"
   ]
  },
  {
   "cell_type": "markdown",
   "metadata": {},
   "source": [
    "we reduce our problem to image classification"
   ]
  },
  {
   "cell_type": "code",
   "execution_count": 16,
   "metadata": {},
   "outputs": [],
   "source": [
    "batch_size = 107\n",
    "epochs = 200\n",
    "rate_print = 5\n",
    "\n",
    "\n",
    "model_conv = neural_nets.convNet()\n",
    "model_conv.float()\n",
    "\n",
    "# create a stochastic gradient descent optimizer\n",
    "optimizer = torch.optim.Adam(model_conv.parameters())\n",
    "\n",
    "# create a loss function\n",
    "criterion = nn.CrossEntropyLoss()"
   ]
  },
  {
   "cell_type": "markdown",
   "metadata": {},
   "source": [
    "As before, since computing the catual graphical representation, the output tensor is stored in `'data/image_like.pt'` and can be loaded below. If you wish to compute it, just uncomment the first line and comment the last one "
   ]
  },
  {
   "cell_type": "code",
   "execution_count": 17,
   "metadata": {},
   "outputs": [],
   "source": [
    "#data_conv = dp.graphic_representation_audio(samples)\n",
    "#torch.save(data_conv, 'data/image_like.pt')\n",
    "data_conv =  torch.load('data/image_like.pt')\n",
    "\n",
    "train_input, train_target, test_input, test_target  = utilities.split_train_test(data_conv,target)"
   ]
  },
  {
   "cell_type": "markdown",
   "metadata": {},
   "source": [
    "visualization of the data"
   ]
  },
  {
   "cell_type": "code",
   "execution_count": 18,
   "metadata": {},
   "outputs": [
    {
     "data": {
      "image/png": "[encoded data removed]",
      "text/plain": [
       "<Figure size 432x288 with 2 Axes>"
      ]
     },
     "metadata": {},
     "output_type": "display_data"
    }
   ],
   "source": [
    "index = 300\n",
    "plt.subplot(1,2,1)\n",
    "librosa.display.specshow(data_conv[index,0].numpy())\n",
    "plt.subplot(1,2,2)\n",
    "librosa.display.specshow(data_conv[index,1].numpy())\n",
    "plt.show()"
   ]
  },
  {
   "cell_type": "markdown",
   "metadata": {},
   "source": [
    "Actual training of the neural network"
   ]
  },
  {
   "cell_type": "code",
   "execution_count": 19,
   "metadata": {},
   "outputs": [
    {
     "name": "stdout",
     "output_type": "stream",
     "text": [
      "epoch   0, loss training: 1.836, train accuracy 22.897,  test accuracy 27.103\n",
      "epoch  10, loss training: 0.810, train accuracy 73.832,  test accuracy 48.598\n",
      "epoch  20, loss training: 0.230, train accuracy 95.794,  test accuracy 41.121\n",
      "epoch  30, loss training: 0.045, train accuracy 100.000,  test accuracy 42.056\n",
      "epoch  40, loss training: 0.013, train accuracy 100.000,  test accuracy 38.318\n",
      "epoch  50, loss training: 0.007, train accuracy 100.000,  test accuracy 39.252\n",
      "epoch  60, loss training: 0.004, train accuracy 100.000,  test accuracy 39.252\n",
      "epoch  70, loss training: 0.003, train accuracy 100.000,  test accuracy 39.252\n",
      "epoch  80, loss training: 0.002, train accuracy 100.000,  test accuracy 39.252\n",
      "epoch  90, loss training: 0.002, train accuracy 100.000,  test accuracy 38.318\n",
      "epoch 100, loss training: 0.001, train accuracy 100.000,  test accuracy 38.318\n",
      "epoch 110, loss training: 0.001, train accuracy 100.000,  test accuracy 38.318\n",
      "epoch 120, loss training: 0.001, train accuracy 100.000,  test accuracy 38.318\n",
      "epoch 130, loss training: 0.001, train accuracy 100.000,  test accuracy 38.318\n",
      "epoch 140, loss training: 0.001, train accuracy 100.000,  test accuracy 38.318\n",
      "\n",
      "\n",
      "Time to train: 361.7777 seconds\n",
      "\n",
      "\n"
     ]
    },
    {
     "data": {
      "image/png": "[encoded data removed]",
      "text/plain": [
       "<Figure size 432x288 with 2 Axes>"
      ]
     },
     "metadata": {},
     "output_type": "display_data"
    },
    {
     "data": {
      "image/png": "[encoded data removed]",
      "text/plain": [
       "<Figure size 432x288 with 1 Axes>"
      ]
     },
     "metadata": {},
     "output_type": "display_data"
    }
   ],
   "source": [
    "neural_nets.train_model(model_conv, train_input, train_target, test_input, test_target, optimizer, criterion, batch_size, epochs = 150, rate_print = 10, chrono=True, plots=True, save=True, title='conv')"
   ]
  },
  {
   "cell_type": "code",
   "execution_count": 20,
   "metadata": {},
   "outputs": [
    {
     "data": {
      "text/plain": [
       "convNet(\n",
       "  (conv1): Conv2d(2, 16, kernel_size=(5, 5), stride=(1, 1))\n",
       "  (conv2): Conv2d(16, 20, kernel_size=(4, 4), stride=(1, 1))\n",
       "  (fc1): Linear(in_features=1280, out_features=21, bias=True)\n",
       "  (fc2): Linear(in_features=21, out_features=7, bias=True)\n",
       ")"
      ]
     },
     "execution_count": 20,
     "metadata": {},
     "output_type": "execute_result"
    }
   ],
   "source": [
    "torch.save(model_conv.state_dict(), \"results/models/conv_nn_0.pt\")\n",
    "model_conv = neural_nets.convNet()\n",
    "model_conv.load_state_dict(torch.load(\"results/models/conv_nn_0.pt\"))\n",
    "model_conv.eval()"
   ]
  },
  {
   "cell_type": "markdown",
   "metadata": {},
   "source": [
    "#### Comparison"
   ]
  },
  {
   "cell_type": "markdown",
   "metadata": {},
   "source": [
    "clearly the fully connected model is better: faster and more accurate\n",
    "\n",
    "we overfit rapidly with the simple model, while with the big model doesn't overfit that much easily "
   ]
  },
  {
   "cell_type": "markdown",
   "metadata": {},
   "source": [
    "we now look at the confusion matrix of the fully connected neural network"
   ]
  },
  {
   "cell_type": "code",
   "execution_count": 22,
   "metadata": {},
   "outputs": [
    {
     "data": {
      "text/html": [
       "<div>\n",
       "<style scoped>\n",
       "    .dataframe tbody tr th:only-of-type {\n",
       "        vertical-align: middle;\n",
       "    }\n",
       "\n",
       "    .dataframe tbody tr th {\n",
       "        vertical-align: top;\n",
       "    }\n",
       "\n",
       "    .dataframe thead th {\n",
       "        text-align: right;\n",
       "    }\n",
       "</style>\n",
       "<table border=\"1\" class=\"dataframe\">\n",
       "  <thead>\n",
       "    <tr style=\"text-align: right;\">\n",
       "      <th></th>\n",
       "      <th>anxiety</th>\n",
       "      <th>disgust</th>\n",
       "      <th>happy</th>\n",
       "      <th>boredom</th>\n",
       "      <th>anger</th>\n",
       "      <th>sadness</th>\n",
       "      <th>neutral</th>\n",
       "    </tr>\n",
       "  </thead>\n",
       "  <tbody>\n",
       "    <tr>\n",
       "      <th>anxiety</th>\n",
       "      <td>30.00</td>\n",
       "      <td>10.00</td>\n",
       "      <td>0.00</td>\n",
       "      <td>0.00</td>\n",
       "      <td>30.00</td>\n",
       "      <td>0.00</td>\n",
       "      <td>30.00</td>\n",
       "    </tr>\n",
       "    <tr>\n",
       "      <th>disgust</th>\n",
       "      <td>18.18</td>\n",
       "      <td>36.36</td>\n",
       "      <td>18.18</td>\n",
       "      <td>0.00</td>\n",
       "      <td>0.00</td>\n",
       "      <td>18.18</td>\n",
       "      <td>9.09</td>\n",
       "    </tr>\n",
       "    <tr>\n",
       "      <th>happy</th>\n",
       "      <td>13.33</td>\n",
       "      <td>13.33</td>\n",
       "      <td>20.00</td>\n",
       "      <td>6.67</td>\n",
       "      <td>33.33</td>\n",
       "      <td>0.00</td>\n",
       "      <td>13.33</td>\n",
       "    </tr>\n",
       "    <tr>\n",
       "      <th>boredom</th>\n",
       "      <td>14.29</td>\n",
       "      <td>7.14</td>\n",
       "      <td>28.57</td>\n",
       "      <td>14.29</td>\n",
       "      <td>7.14</td>\n",
       "      <td>0.00</td>\n",
       "      <td>28.57</td>\n",
       "    </tr>\n",
       "    <tr>\n",
       "      <th>anger</th>\n",
       "      <td>10.34</td>\n",
       "      <td>6.90</td>\n",
       "      <td>17.24</td>\n",
       "      <td>0.00</td>\n",
       "      <td>65.52</td>\n",
       "      <td>0.00</td>\n",
       "      <td>0.00</td>\n",
       "    </tr>\n",
       "    <tr>\n",
       "      <th>sadness</th>\n",
       "      <td>14.29</td>\n",
       "      <td>7.14</td>\n",
       "      <td>7.14</td>\n",
       "      <td>7.14</td>\n",
       "      <td>7.14</td>\n",
       "      <td>35.71</td>\n",
       "      <td>21.43</td>\n",
       "    </tr>\n",
       "    <tr>\n",
       "      <th>neutral</th>\n",
       "      <td>0.00</td>\n",
       "      <td>0.00</td>\n",
       "      <td>21.43</td>\n",
       "      <td>42.86</td>\n",
       "      <td>0.00</td>\n",
       "      <td>0.00</td>\n",
       "      <td>35.71</td>\n",
       "    </tr>\n",
       "  </tbody>\n",
       "</table>\n",
       "</div>"
      ],
      "text/plain": [
       "         anxiety  disgust  happy  boredom  anger  sadness  neutral\n",
       "anxiety    30.00    10.00   0.00     0.00  30.00     0.00    30.00\n",
       "disgust    18.18    36.36  18.18     0.00   0.00    18.18     9.09\n",
       "happy      13.33    13.33  20.00     6.67  33.33     0.00    13.33\n",
       "boredom    14.29     7.14  28.57    14.29   7.14     0.00    28.57\n",
       "anger      10.34     6.90  17.24     0.00  65.52     0.00     0.00\n",
       "sadness    14.29     7.14   7.14     7.14   7.14    35.71    21.43\n",
       "neutral     0.00     0.00  21.43    42.86   0.00     0.00    35.71"
      ]
     },
     "execution_count": 22,
     "metadata": {},
     "output_type": "execute_result"
    }
   ],
   "source": [
    "out = model_conv(test_input)\n",
    "target = test_target\n",
    "dic = {0:[],1:[],2:[],3:[],4:[],5:[],6:[]}\n",
    "\n",
    "#could do it without for loop, but I think it is clearer\n",
    "for i, goal in enumerate(target):\n",
    "    dic[goal.item()].append(torch.argmax(out[i]).item())\n",
    "matrix = np.zeros((7,7))\n",
    "for i in range(7):\n",
    "    for j in range(7):\n",
    "        matrix[i,j]= np.round(100*len(np.where(np.asarray(dic[i]) == j)[0])/len(np.asarray(dic[i])),decimals = 2)\n",
    "confusion_matrix = pd.DataFrame(matrix,index = emotion,columns=emotion)\n",
    "confusion_matrix.to_latex(\"results/confusion_matrix_conv_nn.tex\")\n",
    "confusion_matrix"
   ]
  },
  {
   "cell_type": "markdown",
   "metadata": {},
   "source": [
    "To make better precision, one way could be to train another model to distinguish between two often mistaken emotions and then take as probability of answer a weigthed average of both"
   ]
  },
  {
   "cell_type": "markdown",
   "metadata": {},
   "source": [
    "## importance of the variables "
   ]
  },
  {
   "cell_type": "markdown",
   "metadata": {},
   "source": [
    "Now basing ourselves on the small model, we can see the influence of each feature we extracted by fitting the model withouth it and looking at the drop in accuracy in the different variables"
   ]
  },
  {
   "cell_type": "code",
   "execution_count": 7,
   "metadata": {},
   "outputs": [],
   "source": [
    "features = ['length', 'mfcc_mean', 'mfcc_sd', 'mfcc_median', 'mfcc_max', 'mfcc_min',\n",
    "       'spectral_centroid_mean', 'spectral_centroid_sd',\n",
    "       'spectral_centroid_median', 'spectral_centroid_max',\n",
    "       'spectral_centroid_min', 'spectral_rolloff_mean', 'spectral_rolloff_sd',\n",
    "       'spectral_rolloff_median', 'spectral_rolloff_max',\n",
    "       'spectral_rolloff_min', 'logfbank_mean', 'logfbank_sd',\n",
    "       'logfbank_median', 'logfbank_max', 'logfbank_min',\n",
    "       'spectral_subband_centroid_mean', 'spectral_subband_centroid_sd',\n",
    "       'spectral_subband_centroid_median', 'spectral_subband_centroid_max',\n",
    "       'spectral_subband_centroid_min', 'ratio']"
   ]
  },
  {
   "cell_type": "markdown",
   "metadata": {},
   "source": [
    "we repeat the experience 10 times to get a better estimate of the difference betweent the two different models: each models are **trained on the same train data and evaluated on the same test data**"
   ]
  },
  {
   "cell_type": "code",
   "execution_count": 31,
   "metadata": {},
   "outputs": [
    {
     "name": "stdout",
     "output_type": "stream",
     "text": [
      "epoch   0, loss training: 1.605, train accuracy 48.364,  test accuracy 42.991\n",
      "epoch 199, loss training: 0.000, train accuracy 100.000,  test accuracy 71.028\n",
      "epoch   0, loss training: 1.577, train accuracy 46.028,  test accuracy 36.449\n",
      "epoch 199, loss training: 0.000, train accuracy 100.000,  test accuracy 73.832\n",
      "epoch   0, loss training: 1.553, train accuracy 48.364,  test accuracy 41.121\n",
      "epoch 199, loss training: 0.000, train accuracy 100.000,  test accuracy 71.028\n",
      "epoch   0, loss training: 1.563, train accuracy 49.533,  test accuracy 38.318\n",
      "epoch 199, loss training: 0.000, train accuracy 100.000,  test accuracy 66.355\n",
      "epoch   0, loss training: 1.593, train accuracy 46.963,  test accuracy 41.121\n",
      "epoch 199, loss training: 0.000, train accuracy 100.000,  test accuracy 70.093\n",
      "epoch   0, loss training: 1.584, train accuracy 44.860,  test accuracy 42.056\n",
      "epoch 199, loss training: 0.000, train accuracy 100.000,  test accuracy 71.963\n",
      "epoch   0, loss training: 1.565, train accuracy 47.897,  test accuracy 40.187\n",
      "epoch 199, loss training: 0.000, train accuracy 100.000,  test accuracy 70.093\n",
      "epoch   0, loss training: 1.634, train accuracy 48.832,  test accuracy 43.925\n",
      "epoch 199, loss training: 0.000, train accuracy 100.000,  test accuracy 71.028\n",
      "epoch   0, loss training: 1.574, train accuracy 47.430,  test accuracy 42.991\n",
      "epoch 199, loss training: 0.000, train accuracy 100.000,  test accuracy 70.093\n",
      "epoch   0, loss training: 1.568, train accuracy 49.533,  test accuracy 42.991\n",
      "epoch 199, loss training: 0.000, train accuracy 100.000,  test accuracy 72.897\n",
      "epoch   0, loss training: 1.540, train accuracy 46.028,  test accuracy 39.252\n",
      "epoch 199, loss training: 0.000, train accuracy 100.000,  test accuracy 71.963\n",
      "epoch   0, loss training: 1.571, train accuracy 45.794,  test accuracy 38.318\n",
      "epoch 199, loss training: 0.000, train accuracy 100.000,  test accuracy 68.224\n",
      "epoch   0, loss training: 1.592, train accuracy 40.654,  test accuracy 40.187\n",
      "epoch 199, loss training: 0.000, train accuracy 100.000,  test accuracy 67.290\n",
      "epoch   0, loss training: 1.600, train accuracy 49.065,  test accuracy 46.729\n",
      "epoch 199, loss training: 0.000, train accuracy 100.000,  test accuracy 69.159\n",
      "epoch   0, loss training: 1.609, train accuracy 47.196,  test accuracy 39.252\n",
      "epoch 199, loss training: 0.000, train accuracy 100.000,  test accuracy 71.028\n",
      "epoch   0, loss training: 1.605, train accuracy 52.336,  test accuracy 46.729\n",
      "epoch 199, loss training: 0.000, train accuracy 100.000,  test accuracy 73.832\n",
      "epoch   0, loss training: 1.552, train accuracy 45.561,  test accuracy 38.318\n",
      "epoch 199, loss training: 0.000, train accuracy 100.000,  test accuracy 70.093\n",
      "epoch   0, loss training: 1.574, train accuracy 46.729,  test accuracy 46.729\n",
      "epoch 199, loss training: 0.000, train accuracy 100.000,  test accuracy 70.093\n",
      "epoch   0, loss training: 1.594, train accuracy 46.963,  test accuracy 39.252\n",
      "epoch 199, loss training: 0.000, train accuracy 100.000,  test accuracy 68.224\n",
      "epoch   0, loss training: 1.549, train accuracy 44.159,  test accuracy 39.252\n",
      "epoch 199, loss training: 0.000, train accuracy 100.000,  test accuracy 66.355\n"
     ]
    }
   ],
   "source": [
    "#creating torch tensor from the dataframe\n",
    "X = torch.tensor(samples[features].values).type(torch.FloatTensor)\n",
    "target = torch.tensor(samples[\"emotion\"].values).type(torch.LongTensor)\n",
    "\n",
    "\n",
    "#splitting the data into test and train\n",
    "train_input, train_target, test_input, test_target = utilities.split_train_test(X,target)\n",
    "train_input_modified = train_input[:,:-1]\n",
    "test_input_modified = test_input[:,:-1]\n",
    "\n",
    "batch_size = int(train_input.size(0)/10)\n",
    "epochs = 200\n",
    "\n",
    "\n",
    "#plot and print parameter\n",
    "rate_print = 1\n",
    "\n",
    "\n",
    "model = neural_nets.Net(26)\n",
    "model.float()\n",
    "model_ref = neural_nets.Net()\n",
    "model_ref.float()\n",
    "\n",
    "learning_rate = 1e-4\n",
    "# create a stochastic gradient descent optimizer\n",
    "optimizer = torch.optim.Adam(model.parameters())\n",
    "optimizer_ref = torch.optim.Adam(model_ref.parameters())\n",
    "# create a loss function\n",
    "criterion = nn.CrossEntropyLoss()\n",
    "\n",
    "precisions_ref = []\n",
    "precisions_test = []\n",
    "precisions_ref_c = []\n",
    "precisions_test_c = []\n",
    "\n",
    "\n",
    "for k in range(10):\n",
    "    model = neural_nets.Net(26)\n",
    "    model.float()\n",
    "    model_ref = neural_nets.Net()\n",
    "    model_ref.float()\n",
    "\n",
    "    learning_rate = 1e-4\n",
    "    # create a stochastic gradient descent optimizer\n",
    "    optimizer = torch.optim.Adam(model.parameters())\n",
    "    optimizer_ref = torch.optim.Adam(model_ref.parameters())\n",
    "    # create a loss function\n",
    "    criterion = nn.CrossEntropyLoss()\n",
    "    \n",
    "    neural_nets.train_model(model, train_input_modified, train_target, test_input_modified, test_target, optimizer, criterion, batch_size, epochs, rate_print = epochs-1, chrono=False, plots=False, save=False, title='fully connected')\n",
    "    neural_nets.train_model(model_ref, train_input, train_target, test_input, test_target, optimizer_ref, criterion, batch_size, epochs, rate_print = epochs-1, chrono=False, plots=False, save=False, title='fully connected')\n",
    "    \n",
    "    precisions_test.append(neural_nets.compute_accuracy(model(test_input_modified),test_target))\n",
    "    precisions_test_c.append(neural_nets.compute_accuracy_per_class(model(test_input_modified),test_target))\n",
    "    precisions_ref.append(neural_nets.compute_accuracy(model_ref(test_input),test_target))\n",
    "    precisions_ref_c.append(neural_nets.compute_accuracy_per_class(model_ref(test_input),test_target))\n"
   ]
  },
  {
   "cell_type": "code",
   "execution_count": 42,
   "metadata": {},
   "outputs": [
    {
     "name": "stdout",
     "output_type": "stream",
     "text": [
      "difference in total accuracy when dropping ratio: 0.280\n"
     ]
    },
    {
     "data": {
      "text/html": [
       "<div>\n",
       "<style scoped>\n",
       "    .dataframe tbody tr th:only-of-type {\n",
       "        vertical-align: middle;\n",
       "    }\n",
       "\n",
       "    .dataframe tbody tr th {\n",
       "        vertical-align: top;\n",
       "    }\n",
       "\n",
       "    .dataframe thead th {\n",
       "        text-align: right;\n",
       "    }\n",
       "</style>\n",
       "<table border=\"1\" class=\"dataframe\">\n",
       "  <thead>\n",
       "    <tr style=\"text-align: right;\">\n",
       "      <th></th>\n",
       "      <th>anxiety</th>\n",
       "      <th>disgust</th>\n",
       "      <th>happy</th>\n",
       "      <th>boredom</th>\n",
       "      <th>anger</th>\n",
       "      <th>sadness</th>\n",
       "      <th>neutral</th>\n",
       "    </tr>\n",
       "  </thead>\n",
       "  <tbody>\n",
       "    <tr>\n",
       "      <th>0</th>\n",
       "      <td>0.769231</td>\n",
       "      <td>2.142857</td>\n",
       "      <td>1.176471</td>\n",
       "      <td>1.111111</td>\n",
       "      <td>-1.724138</td>\n",
       "      <td>0.0</td>\n",
       "      <td>0.0</td>\n",
       "    </tr>\n",
       "  </tbody>\n",
       "</table>\n",
       "</div>"
      ],
      "text/plain": [
       "    anxiety   disgust     happy   boredom     anger  sadness  neutral\n",
       "0  0.769231  2.142857  1.176471  1.111111 -1.724138      0.0      0.0"
      ]
     },
     "execution_count": 42,
     "metadata": {},
     "output_type": "execute_result"
    }
   ],
   "source": [
    "pr = np.asarray(precisions_ref)\n",
    "pt = np.asarray(precisions_test)\n",
    "prc = np.asarray(precisions_ref_c)\n",
    "ptc = np.asarray(precisions_test_c)\n",
    "print(\"difference in total accuracy when dropping ratio: {:4.3f}\".format(np.mean(pr-pt)))\n",
    "diff_accuracy = pd.DataFrame( np.mean(prc-ptc,axis = 0),index = emotion).T\n",
    "diff_accuracy.to_csv(\"results/drop_ratio.csv\",index=False)\n",
    "diff_accuracy.head()"
   ]
  },
  {
   "cell_type": "code",
   "execution_count": 41,
   "metadata": {},
   "outputs": [
    {
     "data": {
      "text/html": [
       "<div>\n",
       "<style scoped>\n",
       "    .dataframe tbody tr th:only-of-type {\n",
       "        vertical-align: middle;\n",
       "    }\n",
       "\n",
       "    .dataframe tbody tr th {\n",
       "        vertical-align: top;\n",
       "    }\n",
       "\n",
       "    .dataframe thead th {\n",
       "        text-align: right;\n",
       "    }\n",
       "</style>\n",
       "<table border=\"1\" class=\"dataframe\">\n",
       "  <thead>\n",
       "    <tr style=\"text-align: right;\">\n",
       "      <th></th>\n",
       "      <th>Unnamed: 0</th>\n",
       "      <th>anxiety</th>\n",
       "      <th>disgust</th>\n",
       "      <th>happy</th>\n",
       "      <th>boredom</th>\n",
       "      <th>anger</th>\n",
       "      <th>sadness</th>\n",
       "      <th>neutral</th>\n",
       "    </tr>\n",
       "  </thead>\n",
       "  <tbody>\n",
       "    <tr>\n",
       "      <th>0</th>\n",
       "      <td>0</td>\n",
       "      <td>-7.142857</td>\n",
       "      <td>7.0</td>\n",
       "      <td>1.111111</td>\n",
       "      <td>3.571429</td>\n",
       "      <td>-1.290323</td>\n",
       "      <td>0.666667</td>\n",
       "      <td>-3.333333</td>\n",
       "    </tr>\n",
       "  </tbody>\n",
       "</table>\n",
       "</div>"
      ],
      "text/plain": [
       "   Unnamed: 0   anxiety  disgust     happy   boredom     anger   sadness  \\\n",
       "0           0 -7.142857      7.0  1.111111  3.571429 -1.290323  0.666667   \n",
       "\n",
       "    neutral  \n",
       "0 -3.333333  "
      ]
     },
     "execution_count": 41,
     "metadata": {},
     "output_type": "execute_result"
    }
   ],
   "source": [
    "pd.read_csv(\"results/drop_length.csv\").head()"
   ]
  },
  {
   "cell_type": "code",
   "execution_count": 40,
   "metadata": {},
   "outputs": [
    {
     "data": {
      "text/html": [
       "<div>\n",
       "<style scoped>\n",
       "    .dataframe tbody tr th:only-of-type {\n",
       "        vertical-align: middle;\n",
       "    }\n",
       "\n",
       "    .dataframe tbody tr th {\n",
       "        vertical-align: top;\n",
       "    }\n",
       "\n",
       "    .dataframe thead th {\n",
       "        text-align: right;\n",
       "    }\n",
       "</style>\n",
       "<table border=\"1\" class=\"dataframe\">\n",
       "  <thead>\n",
       "    <tr style=\"text-align: right;\">\n",
       "      <th></th>\n",
       "      <th>anxiety</th>\n",
       "      <th>disgust</th>\n",
       "      <th>happy</th>\n",
       "      <th>boredom</th>\n",
       "      <th>anger</th>\n",
       "      <th>sadness</th>\n",
       "      <th>neutral</th>\n",
       "    </tr>\n",
       "  </thead>\n",
       "  <tbody>\n",
       "    <tr>\n",
       "      <th>0</th>\n",
       "      <td>0.769231</td>\n",
       "      <td>2.142857</td>\n",
       "      <td>1.176471</td>\n",
       "      <td>1.111111</td>\n",
       "      <td>-1.724138</td>\n",
       "      <td>0.0</td>\n",
       "      <td>0.0</td>\n",
       "    </tr>\n",
       "  </tbody>\n",
       "</table>\n",
       "</div>"
      ],
      "text/plain": [
       "    anxiety   disgust     happy   boredom     anger  sadness  neutral\n",
       "0  0.769231  2.142857  1.176471  1.111111 -1.724138      0.0      0.0"
      ]
     },
     "execution_count": 40,
     "metadata": {},
     "output_type": "execute_result"
    }
   ],
   "source": [
    "pd.read_csv(\"results/drop_ratio.csv\").head()"
   ]
  },
  {
   "cell_type": "markdown",
   "metadata": {},
   "source": [
    "It seems that our model relies on the length of the sound sample to detect differences in disgust, anger happiness, and rely on the ratio between spoken and unspoken feature to identify disgust, sadness anger and happiness"
   ]
  },
  {
   "cell_type": "markdown",
   "metadata": {},
   "source": [
    "# Other models "
   ]
  },
  {
   "cell_type": "markdown",
   "metadata": {},
   "source": [
    "Using `sklearn`, we will try to fit the following models:\n",
    "\n",
    "   - SVC (support vector classification)\n",
    "   - multi-logistic regression\n",
    "   - random forests"
   ]
  },
  {
   "cell_type": "markdown",
   "metadata": {},
   "source": [
    "#### random forests"
   ]
  },
  {
   "cell_type": "code",
   "execution_count": 11,
   "metadata": {},
   "outputs": [],
   "source": [
    "X = samples[features].values\n",
    "y = samples[\"emotion\"].values\n",
    "\n",
    "X_train, X_test, y_train, y_test = sklearn.model_selection.train_test_split(X, y, test_size=0.20, random_state=42)"
   ]
  },
  {
   "cell_type": "code",
   "execution_count": 22,
   "metadata": {},
   "outputs": [
    {
     "data": {
      "text/html": [
       "<div>\n",
       "<style scoped>\n",
       "    .dataframe tbody tr th:only-of-type {\n",
       "        vertical-align: middle;\n",
       "    }\n",
       "\n",
       "    .dataframe tbody tr th {\n",
       "        vertical-align: top;\n",
       "    }\n",
       "\n",
       "    .dataframe thead th {\n",
       "        text-align: right;\n",
       "    }\n",
       "</style>\n",
       "<table border=\"1\" class=\"dataframe\">\n",
       "  <thead>\n",
       "    <tr style=\"text-align: right;\">\n",
       "      <th></th>\n",
       "      <th>length</th>\n",
       "      <th>mfcc_mean</th>\n",
       "      <th>mfcc_sd</th>\n",
       "      <th>mfcc_median</th>\n",
       "      <th>mfcc_max</th>\n",
       "      <th>mfcc_min</th>\n",
       "      <th>spectral_centroid_mean</th>\n",
       "      <th>spectral_centroid_sd</th>\n",
       "      <th>spectral_centroid_median</th>\n",
       "      <th>spectral_centroid_max</th>\n",
       "      <th>...</th>\n",
       "      <th>logfbank_sd</th>\n",
       "      <th>logfbank_median</th>\n",
       "      <th>logfbank_max</th>\n",
       "      <th>logfbank_min</th>\n",
       "      <th>spectral_subband_centroid_mean</th>\n",
       "      <th>spectral_subband_centroid_sd</th>\n",
       "      <th>spectral_subband_centroid_median</th>\n",
       "      <th>spectral_subband_centroid_max</th>\n",
       "      <th>spectral_subband_centroid_min</th>\n",
       "      <th>ratio</th>\n",
       "    </tr>\n",
       "  </thead>\n",
       "  <tbody>\n",
       "    <tr>\n",
       "      <th>0</th>\n",
       "      <td>0.015275</td>\n",
       "      <td>0.138748</td>\n",
       "      <td>0.014789</td>\n",
       "      <td>0.192672</td>\n",
       "      <td>0.0</td>\n",
       "      <td>0.051591</td>\n",
       "      <td>0.034635</td>\n",
       "      <td>0.003261</td>\n",
       "      <td>0.083362</td>\n",
       "      <td>0.001628</td>\n",
       "      <td>...</td>\n",
       "      <td>0.085779</td>\n",
       "      <td>0.004082</td>\n",
       "      <td>0.009698</td>\n",
       "      <td>0.108236</td>\n",
       "      <td>0.100697</td>\n",
       "      <td>0.059222</td>\n",
       "      <td>0.00078</td>\n",
       "      <td>0.0</td>\n",
       "      <td>0.000868</td>\n",
       "      <td>0.006237</td>\n",
       "    </tr>\n",
       "  </tbody>\n",
       "</table>\n",
       "<p>1 rows × 27 columns</p>\n",
       "</div>"
      ],
      "text/plain": [
       "     length  mfcc_mean   mfcc_sd  mfcc_median  mfcc_max  mfcc_min  \\\n",
       "0  0.015275   0.138748  0.014789     0.192672       0.0  0.051591   \n",
       "\n",
       "   spectral_centroid_mean  spectral_centroid_sd  spectral_centroid_median  \\\n",
       "0                0.034635              0.003261                  0.083362   \n",
       "\n",
       "   spectral_centroid_max    ...     logfbank_sd  logfbank_median  \\\n",
       "0               0.001628    ...        0.085779         0.004082   \n",
       "\n",
       "   logfbank_max  logfbank_min  spectral_subband_centroid_mean  \\\n",
       "0      0.009698      0.108236                        0.100697   \n",
       "\n",
       "   spectral_subband_centroid_sd  spectral_subband_centroid_median  \\\n",
       "0                      0.059222                           0.00078   \n",
       "\n",
       "   spectral_subband_centroid_max  spectral_subband_centroid_min     ratio  \n",
       "0                            0.0                       0.000868  0.006237  \n",
       "\n",
       "[1 rows x 27 columns]"
      ]
     },
     "execution_count": 22,
     "metadata": {},
     "output_type": "execute_result"
    }
   ],
   "source": [
    "clf = RandomForestClassifier(n_estimators=100, max_depth=2,\n",
    "                             random_state=0)\n",
    "clf.fit(X_train, y_train)\n",
    "random_forest_importance = pd.DataFrame(np.asarray(clf.feature_importances_), index = features).T\n",
    "random_forest_importance"
   ]
  },
  {
   "cell_type": "code",
   "execution_count": 13,
   "metadata": {},
   "outputs": [
    {
     "data": {
      "text/plain": [
       "0.6448598130841121"
      ]
     },
     "execution_count": 13,
     "metadata": {},
     "output_type": "execute_result"
    }
   ],
   "source": [
    "sklearn.metrics.accuracy_score(y_test, clf.predict(X_test))"
   ]
  },
  {
   "cell_type": "code",
   "execution_count": 30,
   "metadata": {},
   "outputs": [
    {
     "data": {
      "text/plain": [
       "0.2336448598130841"
      ]
     },
     "execution_count": 30,
     "metadata": {},
     "output_type": "execute_result"
    }
   ],
   "source": [
    "clf_svc = sklearn.svm.SVC(gamma='auto')\n",
    "clf_svc.fit(X_train, y_train)\n",
    "sklearn.metrics.accuracy_score(y_test,clf_svc.predict(X_test))"
   ]
  },
  {
   "cell_type": "code",
   "execution_count": 34,
   "metadata": {},
   "outputs": [
    {
     "data": {
      "text/plain": [
       "0.42990654205607476"
      ]
     },
     "execution_count": 34,
     "metadata": {},
     "output_type": "execute_result"
    }
   ],
   "source": [
    "clf = sklearn.linear_model.LogisticRegression(random_state=0, solver='lbfgs', multi_class='multinomial').fit(X_train, y_train)\n",
    "sklearn.metrics.accuracy_score(y_test, clf.predict(X_test))"
   ]
  }
 ],
 "metadata": {
  "kernelspec": {
   "display_name": "Python 3",
   "language": "python",
   "name": "python3"
  },
  "language_info": {
   "codemirror_mode": {
    "name": "ipython",
    "version": 3
   },
   "file_extension": ".py",
   "mimetype": "text/x-python",
   "name": "python",
   "nbconvert_exporter": "python",
   "pygments_lexer": "ipython3",
   "version": "3.6.8"
  }
 },
 "nbformat": 4,
 "nbformat_minor": 2
}
